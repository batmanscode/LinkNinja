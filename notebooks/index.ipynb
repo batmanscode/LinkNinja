{
 "cells": [
  {
   "cell_type": "markdown",
   "metadata": {},
   "source": [
    "# LinkNinja - WIP\n",
    "\n",
    "> A serverless Telegram bot that replaces twitter links with fxtwitter.com, nitter.net or your own instances of either 🐱‍👤"
   ]
  }
 ],
 "metadata": {
  "kernelspec": {
   "display_name": "Python 3 (ipykernel)",
   "language": "python",
   "name": "python3"
  }
 },
 "nbformat": 4,
 "nbformat_minor": 4
}
